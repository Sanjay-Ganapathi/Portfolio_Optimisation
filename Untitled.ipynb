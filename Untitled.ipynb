{
 "cells": [
  {
   "cell_type": "code",
   "execution_count": 1,
   "metadata": {},
   "outputs": [],
   "source": [
    "import yfinance as yf\n"
   ]
  },
  {
   "cell_type": "code",
   "execution_count": 8,
   "metadata": {},
   "outputs": [],
   "source": [
    "def past_data(symbol):\n",
    "    symb = yf.Ticker(symbol+'.NS')\n",
    "    print(symbol + '.NS')\n",
    "    data = symb.history(period='1y')\n",
    "\n",
    "    return data\n"
   ]
  },
  {
   "cell_type": "code",
   "execution_count": 9,
   "metadata": {},
   "outputs": [
    {
     "name": "stdout",
     "output_type": "stream",
     "text": [
      "SBIN.NS\n"
     ]
    },
    {
     "data": {
      "text/html": [
       "<div>\n",
       "<style scoped>\n",
       "    .dataframe tbody tr th:only-of-type {\n",
       "        vertical-align: middle;\n",
       "    }\n",
       "\n",
       "    .dataframe tbody tr th {\n",
       "        vertical-align: top;\n",
       "    }\n",
       "\n",
       "    .dataframe thead th {\n",
       "        text-align: right;\n",
       "    }\n",
       "</style>\n",
       "<table border=\"1\" class=\"dataframe\">\n",
       "  <thead>\n",
       "    <tr style=\"text-align: right;\">\n",
       "      <th></th>\n",
       "      <th>Open</th>\n",
       "      <th>High</th>\n",
       "      <th>Low</th>\n",
       "      <th>Close</th>\n",
       "      <th>Volume</th>\n",
       "      <th>Dividends</th>\n",
       "      <th>Stock Splits</th>\n",
       "    </tr>\n",
       "    <tr>\n",
       "      <th>Date</th>\n",
       "      <th></th>\n",
       "      <th></th>\n",
       "      <th></th>\n",
       "      <th></th>\n",
       "      <th></th>\n",
       "      <th></th>\n",
       "      <th></th>\n",
       "    </tr>\n",
       "  </thead>\n",
       "  <tbody>\n",
       "    <tr>\n",
       "      <th>2019-08-14</th>\n",
       "      <td>285.05</td>\n",
       "      <td>291.25</td>\n",
       "      <td>284.50</td>\n",
       "      <td>289.75</td>\n",
       "      <td>18523649</td>\n",
       "      <td>0</td>\n",
       "      <td>0</td>\n",
       "    </tr>\n",
       "    <tr>\n",
       "      <th>2019-08-16</th>\n",
       "      <td>287.95</td>\n",
       "      <td>292.80</td>\n",
       "      <td>284.30</td>\n",
       "      <td>290.90</td>\n",
       "      <td>20047399</td>\n",
       "      <td>0</td>\n",
       "      <td>0</td>\n",
       "    </tr>\n",
       "    <tr>\n",
       "      <th>2019-08-19</th>\n",
       "      <td>292.00</td>\n",
       "      <td>292.40</td>\n",
       "      <td>286.00</td>\n",
       "      <td>286.85</td>\n",
       "      <td>19831459</td>\n",
       "      <td>0</td>\n",
       "      <td>0</td>\n",
       "    </tr>\n",
       "    <tr>\n",
       "      <th>2019-08-20</th>\n",
       "      <td>287.30</td>\n",
       "      <td>287.40</td>\n",
       "      <td>280.65</td>\n",
       "      <td>283.70</td>\n",
       "      <td>23204417</td>\n",
       "      <td>0</td>\n",
       "      <td>0</td>\n",
       "    </tr>\n",
       "    <tr>\n",
       "      <th>2019-08-21</th>\n",
       "      <td>285.50</td>\n",
       "      <td>285.60</td>\n",
       "      <td>276.30</td>\n",
       "      <td>277.40</td>\n",
       "      <td>28226325</td>\n",
       "      <td>0</td>\n",
       "      <td>0</td>\n",
       "    </tr>\n",
       "    <tr>\n",
       "      <th>...</th>\n",
       "      <td>...</td>\n",
       "      <td>...</td>\n",
       "      <td>...</td>\n",
       "      <td>...</td>\n",
       "      <td>...</td>\n",
       "      <td>...</td>\n",
       "      <td>...</td>\n",
       "    </tr>\n",
       "    <tr>\n",
       "      <th>2020-08-10</th>\n",
       "      <td>191.85</td>\n",
       "      <td>195.50</td>\n",
       "      <td>191.70</td>\n",
       "      <td>193.80</td>\n",
       "      <td>48784530</td>\n",
       "      <td>0</td>\n",
       "      <td>0</td>\n",
       "    </tr>\n",
       "    <tr>\n",
       "      <th>2020-08-11</th>\n",
       "      <td>195.00</td>\n",
       "      <td>196.80</td>\n",
       "      <td>193.75</td>\n",
       "      <td>195.05</td>\n",
       "      <td>43890305</td>\n",
       "      <td>0</td>\n",
       "      <td>0</td>\n",
       "    </tr>\n",
       "    <tr>\n",
       "      <th>2020-08-12</th>\n",
       "      <td>196.00</td>\n",
       "      <td>204.25</td>\n",
       "      <td>194.60</td>\n",
       "      <td>203.30</td>\n",
       "      <td>157818228</td>\n",
       "      <td>0</td>\n",
       "      <td>0</td>\n",
       "    </tr>\n",
       "    <tr>\n",
       "      <th>2020-08-13</th>\n",
       "      <td>205.50</td>\n",
       "      <td>207.30</td>\n",
       "      <td>200.75</td>\n",
       "      <td>201.90</td>\n",
       "      <td>70443118</td>\n",
       "      <td>0</td>\n",
       "      <td>0</td>\n",
       "    </tr>\n",
       "    <tr>\n",
       "      <th>2020-08-14</th>\n",
       "      <td>203.00</td>\n",
       "      <td>204.00</td>\n",
       "      <td>194.60</td>\n",
       "      <td>196.50</td>\n",
       "      <td>56144386</td>\n",
       "      <td>0</td>\n",
       "      <td>0</td>\n",
       "    </tr>\n",
       "  </tbody>\n",
       "</table>\n",
       "<p>246 rows × 7 columns</p>\n",
       "</div>"
      ],
      "text/plain": [
       "              Open    High     Low   Close     Volume  Dividends  Stock Splits\n",
       "Date                                                                          \n",
       "2019-08-14  285.05  291.25  284.50  289.75   18523649          0             0\n",
       "2019-08-16  287.95  292.80  284.30  290.90   20047399          0             0\n",
       "2019-08-19  292.00  292.40  286.00  286.85   19831459          0             0\n",
       "2019-08-20  287.30  287.40  280.65  283.70   23204417          0             0\n",
       "2019-08-21  285.50  285.60  276.30  277.40   28226325          0             0\n",
       "...            ...     ...     ...     ...        ...        ...           ...\n",
       "2020-08-10  191.85  195.50  191.70  193.80   48784530          0             0\n",
       "2020-08-11  195.00  196.80  193.75  195.05   43890305          0             0\n",
       "2020-08-12  196.00  204.25  194.60  203.30  157818228          0             0\n",
       "2020-08-13  205.50  207.30  200.75  201.90   70443118          0             0\n",
       "2020-08-14  203.00  204.00  194.60  196.50   56144386          0             0\n",
       "\n",
       "[246 rows x 7 columns]"
      ]
     },
     "execution_count": 9,
     "metadata": {},
     "output_type": "execute_result"
    }
   ],
   "source": [
    "past_data('SBIN')"
   ]
  },
  {
   "cell_type": "code",
   "execution_count": 1,
   "metadata": {},
   "outputs": [],
   "source": [
    "import streamlit as st"
   ]
  },
  {
   "cell_type": "code",
   "execution_count": 2,
   "metadata": {},
   "outputs": [
    {
     "name": "stderr",
     "output_type": "stream",
     "text": [
      "2020-08-16 16:18:04.989 INFO    matplotlib.font_manager: generated new fontManager\n"
     ]
    }
   ],
   "source": [
    "import pandas as pd\n",
    "import numpy as np\n",
    "import matplotlib.pyplot as plt\n",
    "import seaborn as sns\n",
    "sns.set()"
   ]
  },
  {
   "cell_type": "code",
   "execution_count": 3,
   "metadata": {},
   "outputs": [],
   "source": [
    "import pandas as pd\n",
    "import numpy as np\n",
    "import matplotlib.pyplot as plt\n",
    "import seaborn as sns\n",
    "sns.set()"
   ]
  },
  {
   "cell_type": "code",
   "execution_count": null,
   "metadata": {},
   "outputs": [],
   "source": []
  }
 ],
 "metadata": {
  "kernelspec": {
   "display_name": "Python 3",
   "language": "python",
   "name": "python3"
  },
  "language_info": {
   "codemirror_mode": {
    "name": "ipython",
    "version": 3
   },
   "file_extension": ".py",
   "mimetype": "text/x-python",
   "name": "python",
   "nbconvert_exporter": "python",
   "pygments_lexer": "ipython3",
   "version": "3.8.3"
  }
 },
 "nbformat": 4,
 "nbformat_minor": 2
}
